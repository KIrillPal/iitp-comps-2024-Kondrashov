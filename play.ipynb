{
 "cells": [
  {
   "cell_type": "code",
   "execution_count": 1,
   "metadata": {},
   "outputs": [],
   "source": [
    "import numpy as np\n",
    "from inviter import get_eigenvector_by_inviter\n",
    "from tqdm.notebook import tqdm\n",
    "from inverse import inverse\n",
    "import random"
   ]
  },
  {
   "cell_type": "markdown",
   "metadata": {},
   "source": [
    "## 1. Lower triangular matrix"
   ]
  },
  {
   "cell_type": "code",
   "execution_count": 2,
   "metadata": {},
   "outputs": [],
   "source": [
    "seed = 42\n",
    "np.random.seed(seed)\n",
    "random.seed(seed)"
   ]
  },
  {
   "cell_type": "code",
   "execution_count": 3,
   "metadata": {},
   "outputs": [
    {
     "name": "stdout",
     "output_type": "stream",
     "text": [
      "Given matrix\n"
     ]
    },
    {
     "data": {
      "text/plain": [
       "array([[-2.5092,  0.    ,  0.    ,  0.    ,  0.    ],\n",
       "       [-6.8801, -8.8383,  0.    ,  0.    ,  0.    ],\n",
       "       [-9.5883,  9.3982,  6.6489,  0.    ,  0.    ],\n",
       "       [-6.3319, -3.9152,  0.4951, -1.3611,  0.    ],\n",
       "       [ 2.2371, -7.2101, -4.1571, -2.6728, -0.8786]])"
      ]
     },
     "execution_count": 3,
     "metadata": {},
     "output_type": "execute_result"
    }
   ],
   "source": [
    "N = 5\n",
    "L = np.random.uniform(-10, 10, size=(N, N))\n",
    "L = np.tril(L)\n",
    "\n",
    "print(\"Given matrix\")\n",
    "L.round(4)"
   ]
  },
  {
   "cell_type": "code",
   "execution_count": 4,
   "metadata": {},
   "outputs": [
    {
     "name": "stdout",
     "output_type": "stream",
     "text": [
      "Eigenvalues: [-2.50919762 -8.83832776  6.64885282 -1.36109963 -0.87860032]\n"
     ]
    }
   ],
   "source": [
    "eigenvalues = L.diagonal()\n",
    "print(\"Eigenvalues:\", eigenvalues)"
   ]
  },
  {
   "cell_type": "markdown",
   "metadata": {},
   "source": [
    "Find eigenvectors"
   ]
  },
  {
   "cell_type": "code",
   "execution_count": 5,
   "metadata": {},
   "outputs": [],
   "source": [
    "S = np.array([\n",
    "    get_eigenvector_by_inviter(L, eigenvalue=l, eps=1e-15, noise_ratio=0.1)\n",
    "    for l in eigenvalues\n",
    "])"
   ]
  },
  {
   "cell_type": "markdown",
   "metadata": {},
   "source": [
    "Restore original matrix from our decomposition"
   ]
  },
  {
   "cell_type": "code",
   "execution_count": 6,
   "metadata": {},
   "outputs": [
    {
     "name": "stdout",
     "output_type": "stream",
     "text": [
      "Loss matrix\n",
      "[[ 0.  0.  0. -0. -0.]\n",
      " [ 0.  0.  0. -0.  0.]\n",
      " [ 0.  0.  0. -0. -0.]\n",
      " [ 0.  0.  0. -0.  0.]\n",
      " [ 0.  0.  0. -0.  0.]]\n",
      "2-Norm of loss: 1.3443456034696013e-14\n"
     ]
    }
   ],
   "source": [
    "At = S.T @ np.diag(eigenvalues) @ inverse(S.T, eps=1e-15)\n",
    "loss_matrix = At-L\n",
    "print(\"Loss matrix\")\n",
    "print(loss_matrix.round(4))\n",
    "print(\"2-Norm of loss:\", np.linalg.norm(loss_matrix))"
   ]
  },
  {
   "cell_type": "code",
   "execution_count": 7,
   "metadata": {},
   "outputs": [
    {
     "name": "stdout",
     "output_type": "stream",
     "text": [
      "Found vectors * lambda\n"
     ]
    },
    {
     "data": {
      "text/plain": [
       "array([[ 8.75326650e-01, -9.51527801e-01,  1.89293008e+00,\n",
       "         7.66368858e-01,  6.73769475e-01],\n",
       "       [-7.29539540e-18, -5.83833542e+00,  3.54291902e+00,\n",
       "        -3.29161945e+00, -4.54343959e+00],\n",
       "       [ 1.68178546e-17, -1.82704927e-17, -5.75763897e+00,\n",
       "        -3.55903725e-01,  3.30608073e+00],\n",
       "       [-5.93789673e-28,  6.45481755e-28, -1.28409472e-27,\n",
       "        -2.41803382e-01, -1.33944889e+00],\n",
       "       [-5.64229208e-24,  6.13347798e-24, -1.22016886e-23,\n",
       "         8.70963089e-19, -8.78600316e-01]])"
      ]
     },
     "execution_count": 7,
     "metadata": {},
     "output_type": "execute_result"
    }
   ],
   "source": [
    "print(\"Found vectors * lambda\")\n",
    "np.array([eigenvalues[i] * S[i] for i in range(N)])"
   ]
  },
  {
   "cell_type": "code",
   "execution_count": 8,
   "metadata": {},
   "outputs": [
    {
     "name": "stdout",
     "output_type": "stream",
     "text": [
      "Found vectors after applying L\n"
     ]
    },
    {
     "data": {
      "text/plain": [
       "array([[ 8.75326650e-01, -9.51527801e-01,  1.89293008e+00,\n",
       "         7.66368858e-01,  6.73769475e-01],\n",
       "       [-2.07115976e-18, -5.83833542e+00,  3.54291902e+00,\n",
       "        -3.29161945e+00, -4.54343959e+00],\n",
       "       [-6.34685740e-18,  6.88418307e-18, -5.75763897e+00,\n",
       "        -3.55903725e-01,  3.30608073e+00],\n",
       "       [-1.09465583e-27,  1.18995058e-27, -2.36723849e-27,\n",
       "        -2.41803382e-01, -1.33944889e+00],\n",
       "       [-1.61138411e-23,  1.75166120e-23, -3.48468449e-23,\n",
       "         1.34926182e-18, -8.78600316e-01]])"
      ]
     },
     "execution_count": 8,
     "metadata": {},
     "output_type": "execute_result"
    }
   ],
   "source": [
    "print(\"Found vectors after applying L\")\n",
    "np.array([L @ S[i] for i in range(N)])"
   ]
  },
  {
   "cell_type": "code",
   "execution_count": 9,
   "metadata": {},
   "outputs": [
    {
     "name": "stdout",
     "output_type": "stream",
     "text": [
      "2-Norm of the loss: 4.069584932039818e-16\n",
      "TEST PASSED\n"
     ]
    }
   ],
   "source": [
    "mean_loss = np.mean([\n",
    "    np.linalg.norm(L @ S[i] - eigenvalues[i] * S[i]) \n",
    "    for i in range(N)\n",
    "])\n",
    "print(\"2-Norm of the loss:\", mean_loss)\n",
    "assert mean_loss < 1e-5, \"TEST FAILED\"\n",
    "print(\"TEST PASSED\")"
   ]
  },
  {
   "cell_type": "markdown",
   "metadata": {},
   "source": [
    "## 2. Complex lower triangular matrix"
   ]
  },
  {
   "cell_type": "code",
   "execution_count": 10,
   "metadata": {},
   "outputs": [
    {
     "name": "stdout",
     "output_type": "stream",
     "text": [
      "Given matrix\n"
     ]
    },
    {
     "data": {
      "text/plain": [
       "array([[ 9.39-3.49j,  0.  +0.j  ,  0.  +0.j  ],\n",
       "       [ 7.9 +6.57j,  1.96-2.86j,  0.  +0.j  ],\n",
       "       [-8.23+0.85j, -6.08-7.18j, -9.1 +6.04j]])"
      ]
     },
     "execution_count": 10,
     "metadata": {},
     "output_type": "execute_result"
    }
   ],
   "source": [
    "N = 3\n",
    "Ax = np.random.uniform(-10, 10, size=(N, N)).round(2).astype(complex)\n",
    "Ay = np.random.uniform(-10, 10, size=(N, N)).round(2).astype(complex)\n",
    "A = np.tril(Ax + 1j*Ay)\n",
    "\n",
    "print(\"Given matrix\")\n",
    "A"
   ]
  },
  {
   "cell_type": "code",
   "execution_count": 11,
   "metadata": {},
   "outputs": [
    {
     "name": "stdout",
     "output_type": "stream",
     "text": [
      "Eigenvalues: [ 9.39-3.49j  1.96-2.86j -9.1 +6.04j]\n"
     ]
    }
   ],
   "source": [
    "eigenvalues = A.diagonal()\n",
    "print(\"Eigenvalues:\", eigenvalues)"
   ]
  },
  {
   "cell_type": "markdown",
   "metadata": {},
   "source": [
    "Find eigenvectors"
   ]
  },
  {
   "cell_type": "code",
   "execution_count": 12,
   "metadata": {},
   "outputs": [],
   "source": [
    "S = np.array([\n",
    "    get_eigenvector_by_inviter(A, eigenvalue=l, max_iters=500, noise_ratio=0.1)\n",
    "    for l in eigenvalues\n",
    "])"
   ]
  },
  {
   "cell_type": "markdown",
   "metadata": {},
   "source": [
    "Restore original matrix from our decomposition"
   ]
  },
  {
   "cell_type": "code",
   "execution_count": 13,
   "metadata": {},
   "outputs": [
    {
     "name": "stdout",
     "output_type": "stream",
     "text": [
      "Loss matrix\n",
      "[[ 0.-0.j  0.+0.j  0.+0.j]\n",
      " [ 0.+0.j  0.+0.j  0.+0.j]\n",
      " [ 0.+0.j -0.-0.j -0.+0.j]]\n",
      "2-Norm of loss: 6.261178156878394e-15\n"
     ]
    }
   ],
   "source": [
    "At = S.T @ np.diag(eigenvalues) @ inverse(S.T, eps=1e-15)\n",
    "loss_matrix = At-A\n",
    "print(\"Loss matrix\")\n",
    "print(loss_matrix.round(4))\n",
    "print(\"2-Norm of loss:\", np.linalg.norm(loss_matrix))"
   ]
  },
  {
   "cell_type": "code",
   "execution_count": 14,
   "metadata": {},
   "outputs": [
    {
     "name": "stdout",
     "output_type": "stream",
     "text": [
      "Found vectors * lambda\n"
     ]
    },
    {
     "data": {
      "text/plain": [
       "array([[-0.37723154+5.45419462j, -5.64682336+4.98684085j,\n",
       "         3.70218896+0.01608392j],\n",
       "       [ 0.        +0.j        , -1.5257392 -2.45451927j,\n",
       "        -1.60089456+1.05156628j],\n",
       "       [-0.        +0.j        , -0.        +0.j        ,\n",
       "         8.99385313+6.19695134j]])"
      ]
     },
     "execution_count": 14,
     "metadata": {},
     "output_type": "execute_result"
    }
   ],
   "source": [
    "print(\"Found vectors * lambda\")\n",
    "np.array([eigenvalues[i] * S[i] for i in range(N)])"
   ]
  },
  {
   "cell_type": "code",
   "execution_count": 15,
   "metadata": {},
   "outputs": [
    {
     "name": "stdout",
     "output_type": "stream",
     "text": [
      "Found vectors after applying A\n"
     ]
    },
    {
     "data": {
      "text/plain": [
       "array([[-0.37723154+5.45419462j, -5.64682336+4.98684085j,\n",
       "         3.70218896+0.01608392j],\n",
       "       [ 0.        +0.j        , -1.5257392 -2.45451927j,\n",
       "        -1.60089456+1.05156628j],\n",
       "       [ 0.        +0.j        ,  0.        +0.j        ,\n",
       "         8.99385313+6.19695134j]])"
      ]
     },
     "execution_count": 15,
     "metadata": {},
     "output_type": "execute_result"
    }
   ],
   "source": [
    "print(\"Found vectors after applying A\")\n",
    "np.array([A @ S[i] for i in range(N)])"
   ]
  },
  {
   "cell_type": "code",
   "execution_count": 16,
   "metadata": {},
   "outputs": [
    {
     "name": "stdout",
     "output_type": "stream",
     "text": [
      "2-Norm of the loss: 7.986177550478365e-16\n",
      "TEST PASSED\n"
     ]
    }
   ],
   "source": [
    "mean_loss = np.mean([\n",
    "    np.linalg.norm(A @ S[i] - eigenvalues[i] * S[i]) \n",
    "    for i in range(N)\n",
    "])\n",
    "print(\"2-Norm of the loss:\", mean_loss)\n",
    "assert mean_loss < 1e-5, \"TEST FAILED\"\n",
    "print(\"TEST PASSED\")"
   ]
  },
  {
   "cell_type": "markdown",
   "metadata": {},
   "source": [
    "## 3. Square non-singular matrix"
   ]
  },
  {
   "cell_type": "code",
   "execution_count": 17,
   "metadata": {},
   "outputs": [
    {
     "name": "stdout",
     "output_type": "stream",
     "text": [
      "Given matrix\n"
     ]
    },
    {
     "data": {
      "text/plain": [
       "array([[-8.5191, -2.8307, -7.6826,  7.2621,  2.466 ],\n",
       "       [-3.382 , -8.7288, -3.7804, -3.4963,  4.5921],\n",
       "       [ 2.7511,  7.7443, -0.5557, -7.6081,  4.2649],\n",
       "       [ 5.2157,  1.2255,  5.4193, -0.1241,  0.4547],\n",
       "       [-1.4492, -9.4916, -7.8422, -9.3714,  2.7282]])"
      ]
     },
     "execution_count": 17,
     "metadata": {},
     "output_type": "execute_result"
    }
   ],
   "source": [
    "N = 5\n",
    "A = np.random.uniform(-10, 10, size=(N, N))\n",
    "\n",
    "print(\"Given matrix\")\n",
    "A.round(4)"
   ]
  },
  {
   "cell_type": "code",
   "execution_count": 18,
   "metadata": {},
   "outputs": [
    {
     "name": "stdout",
     "output_type": "stream",
     "text": [
      "Eigenvalues: [-0.4695158+10.50892633j -0.4695158-10.50892633j -8.2285539 +3.87064217j\n",
      " -8.2285539 -3.87064217j  2.1966181 +0.j        ]\n"
     ]
    }
   ],
   "source": [
    "eigenvalues = np.linalg.eig(A).eigenvalues\n",
    "print(\"Eigenvalues:\", eigenvalues)"
   ]
  },
  {
   "cell_type": "markdown",
   "metadata": {},
   "source": [
    "Find eigenvectors"
   ]
  },
  {
   "cell_type": "code",
   "execution_count": 19,
   "metadata": {},
   "outputs": [],
   "source": [
    "S = np.array([\n",
    "    get_eigenvector_by_inviter(A, eigenvalue=l, max_iters=1500, noise_ratio=0.1)\n",
    "    for l in eigenvalues\n",
    "])"
   ]
  },
  {
   "cell_type": "markdown",
   "metadata": {},
   "source": [
    "Restore original matrix from our decomposition"
   ]
  },
  {
   "cell_type": "code",
   "execution_count": 20,
   "metadata": {},
   "outputs": [
    {
     "name": "stdout",
     "output_type": "stream",
     "text": [
      "Loss matrix\n",
      "[[ 2.0e-07+0.j -2.0e-07+0.j -0.0e+00+0.j  5.0e-07+0.j  2.0e-07-0.j]\n",
      " [ 0.0e+00-0.j -0.0e+00+0.j -0.0e+00-0.j  0.0e+00+0.j  0.0e+00+0.j]\n",
      " [-8.0e-07+0.j  6.0e-07-0.j  1.0e-07+0.j -1.5e-06-0.j -5.0e-07+0.j]\n",
      " [-2.0e-07-0.j  1.0e-07-0.j  0.0e+00-0.j -3.0e-07-0.j -1.0e-07+0.j]\n",
      " [-0.0e+00+0.j  0.0e+00+0.j  0.0e+00-0.j -1.0e-07-0.j -0.0e+00+0.j]]\n",
      "2-Norm of loss: 1.9763187182169543e-06\n"
     ]
    }
   ],
   "source": [
    "At = S.T @ np.diag(eigenvalues) @ inverse(S.T, eps=1e-15)\n",
    "loss_matrix = At-A\n",
    "print(\"Loss matrix\")\n",
    "print(loss_matrix.round(7))\n",
    "print(\"2-Norm of loss:\", np.linalg.norm(loss_matrix))"
   ]
  },
  {
   "cell_type": "code",
   "execution_count": 21,
   "metadata": {},
   "outputs": [
    {
     "name": "stdout",
     "output_type": "stream",
     "text": [
      "Found vectors * lambda\n"
     ]
    },
    {
     "data": {
      "text/plain": [
       "array([[ 2.97745322-0.43805368j,  0.10623124-2.54893054j,\n",
       "        -5.57752929-3.41546535j, -2.50765207+1.39431616j,\n",
       "         1.71623526-6.41407753j],\n",
       "       [ 3.00580388+0.14920359j,  0.35127134+2.52684397j,\n",
       "        -5.22258571+3.93685598j, -2.63030261-1.14627423j,\n",
       "         2.32611123+6.21892761j],\n",
       "       [-0.11688507+6.27544229j, -2.48679157+1.88297806j,\n",
       "         3.41765978-3.56803619j, -0.79330879-2.21034782j,\n",
       "         0.26535788-1.88937068j],\n",
       "       [ 3.54943506-5.17651898j, -0.9308402 -2.97712533j,\n",
       "         0.70999917+4.88949709j, -1.92951045+1.33864325j,\n",
       "        -0.88127014+1.69218773j],\n",
       "       [ 1.58377361+0.j        , -0.2448231 +0.j        ,\n",
       "        -1.09793866+0.j        ,  0.94447069+0.j        ,\n",
       "         0.39919882+0.j        ]])"
      ]
     },
     "execution_count": 21,
     "metadata": {},
     "output_type": "execute_result"
    }
   ],
   "source": [
    "print(\"Found vectors * lambda\")\n",
    "np.array([eigenvalues[i] * S[i] for i in range(N)])"
   ]
  },
  {
   "cell_type": "code",
   "execution_count": 22,
   "metadata": {},
   "outputs": [
    {
     "name": "stdout",
     "output_type": "stream",
     "text": [
      "Found vectors after applying A\n"
     ]
    },
    {
     "data": {
      "text/plain": [
       "array([[ 2.97745322-0.43805368j,  0.10623124-2.54893054j,\n",
       "        -5.57752929-3.41546535j, -2.50765207+1.39431616j,\n",
       "         1.71623526-6.41407753j],\n",
       "       [ 3.00580388+0.14920359j,  0.35127134+2.52684397j,\n",
       "        -5.22258571+3.93685598j, -2.63030261-1.14627423j,\n",
       "         2.32611123+6.21892761j],\n",
       "       [-0.11688507+6.27544229j, -2.48679157+1.88297806j,\n",
       "         3.41765978-3.56803619j, -0.79330879-2.21034782j,\n",
       "         0.26535788-1.88937068j],\n",
       "       [ 3.54943506-5.17651898j, -0.9308402 -2.97712533j,\n",
       "         0.70999917+4.88949709j, -1.92951045+1.33864325j,\n",
       "        -0.88127014+1.69218773j],\n",
       "       [ 1.58377317+0.j        , -0.24482311+0.j        ,\n",
       "        -1.09793725+0.j        ,  0.94447098+0.j        ,\n",
       "         0.39919887+0.j        ]])"
      ]
     },
     "execution_count": 22,
     "metadata": {},
     "output_type": "execute_result"
    }
   ],
   "source": [
    "print(\"Found vectors after applying A\")\n",
    "np.array([A @ S[i] for i in range(N)])"
   ]
  },
  {
   "cell_type": "code",
   "execution_count": 23,
   "metadata": {},
   "outputs": [
    {
     "name": "stdout",
     "output_type": "stream",
     "text": [
      "2-Norm of the loss: 3.0171655243390456e-07\n",
      "TEST PASSED\n"
     ]
    }
   ],
   "source": [
    "mean_loss = np.mean([\n",
    "    np.linalg.norm(A @ S[i] - eigenvalues[i] * S[i]) \n",
    "    for i in range(N)\n",
    "])\n",
    "print(\"2-Norm of the loss:\", mean_loss)\n",
    "assert mean_loss < 1e-5, \"TEST FAILED\"\n",
    "print(\"TEST PASSED\")"
   ]
  }
 ],
 "metadata": {
  "kernelspec": {
   "display_name": "Python 3",
   "language": "python",
   "name": "python3"
  },
  "language_info": {
   "codemirror_mode": {
    "name": "ipython",
    "version": 3
   },
   "file_extension": ".py",
   "mimetype": "text/x-python",
   "name": "python",
   "nbconvert_exporter": "python",
   "pygments_lexer": "ipython3",
   "version": "3.11.0rc1"
  }
 },
 "nbformat": 4,
 "nbformat_minor": 2
}
